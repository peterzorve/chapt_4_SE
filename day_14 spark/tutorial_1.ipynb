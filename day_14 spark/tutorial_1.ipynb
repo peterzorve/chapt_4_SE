{
 "cells": [
  {
   "cell_type": "code",
   "execution_count": 1,
   "metadata": {},
   "outputs": [
    {
     "name": "stdout",
     "output_type": "stream",
     "text": [
      "+-----+\n",
      "|hello|\n",
      "+-----+\n",
      "|spark|\n",
      "+-----+\n",
      "\n"
     ]
    }
   ],
   "source": [
    "import findspark\n",
    "\n",
    "findspark.init()\n",
    "\n",
    "import pyspark # only run after findspark.init()\n",
    "from pyspark.sql import SparkSession\n",
    "spark = SparkSession.builder.getOrCreate()\n",
    "\n",
    "df = spark.sql('''select 'spark' as hello ''')\n",
    "df.show()\n",
    "\n"
   ]
  },
  {
   "cell_type": "code",
   "execution_count": 2,
   "metadata": {},
   "outputs": [],
   "source": [
    "spark = SparkSession.builder.appName('tutorial_1').getOrCreate()\n",
    "# spark"
   ]
  },
  {
   "cell_type": "code",
   "execution_count": 3,
   "metadata": {},
   "outputs": [
    {
     "name": "stdout",
     "output_type": "stream",
     "text": [
      "+------------+-----------+------------+-----------+-------+\n",
      "|sepal_length|sepal_width|petal_length|petal_width|species|\n",
      "+------------+-----------+------------+-----------+-------+\n",
      "|         5.1|        3.5|         1.4|        0.2| setosa|\n",
      "|         4.9|        3.0|         1.4|        0.2| setosa|\n",
      "|         4.7|        3.2|         1.3|        0.2| setosa|\n",
      "|         4.6|        3.1|         1.5|        0.2| setosa|\n",
      "|         5.0|        3.6|         1.4|        0.2| setosa|\n",
      "+------------+-----------+------------+-----------+-------+\n",
      "only showing top 5 rows\n",
      "\n"
     ]
    }
   ],
   "source": [
    "spark = SparkSession.builder.appName('iris_class').getOrCreate()\n",
    "\n",
    "df = spark.read.csv('iris_data.csv', header=True, inferSchema=True)\n",
    "df.show(5)"
   ]
  },
  {
   "cell_type": "code",
   "execution_count": 11,
   "metadata": {},
   "outputs": [
    {
     "name": "stdout",
     "output_type": "stream",
     "text": [
      "root\n",
      " |-- sepal_length: double (nullable = true)\n",
      " |-- sepal_width: double (nullable = true)\n",
      " |-- petal_length: double (nullable = true)\n",
      " |-- petal_width: double (nullable = true)\n",
      " |-- species: string (nullable = true)\n",
      "\n"
     ]
    }
   ],
   "source": [
    "df.printSchema()"
   ]
  },
  {
   "cell_type": "code",
   "execution_count": 13,
   "metadata": {},
   "outputs": [
    {
     "data": {
      "text/plain": [
       "\"\\nschema = StructType([\\n                            StructField('sepal_length', DoubleType()), \\n                            StructField('sepal_width',  DoubleType()), \\n                            StructField('petal_length', DoubleType()), \\n                            StructField('petal_width',  DoubleType()),\\n                            StructField('species',      StringType())\\n                    ])\\n\""
      ]
     },
     "execution_count": 13,
     "metadata": {},
     "output_type": "execute_result"
    }
   ],
   "source": [
    "\n",
    "\"\"\"\n",
    "schema = StructType([\n",
    "                            StructField('sepal_length', DoubleType()), \n",
    "                            StructField('sepal_width',  DoubleType()), \n",
    "                            StructField('petal_length', DoubleType()), \n",
    "                            StructField('petal_width',  DoubleType()),\n",
    "                            StructField('species',      StringType())\n",
    "                    ])\n",
    "\"\"\"\n"
   ]
  },
  {
   "cell_type": "code",
   "execution_count": 4,
   "metadata": {},
   "outputs": [
    {
     "name": "stdout",
     "output_type": "stream",
     "text": [
      "+------------+-----------+------------+-----------+\n",
      "|sepal_length|sepal_width|petal_length|petal_width|\n",
      "+------------+-----------+------------+-----------+\n",
      "|         5.1|        3.5|         1.4|        0.2|\n",
      "|         4.9|        3.0|         1.4|        0.2|\n",
      "|         4.7|        3.2|         1.3|        0.2|\n",
      "|         4.6|        3.1|         1.5|        0.2|\n",
      "|         5.0|        3.6|         1.4|        0.2|\n",
      "+------------+-----------+------------+-----------+\n",
      "only showing top 5 rows\n",
      "\n"
     ]
    }
   ],
   "source": [
    "columns = ['sepal_length', 'sepal_width', 'petal_length', 'petal_width']\n",
    "\n",
    "data = df[columns]\n",
    "data.show(5)"
   ]
  },
  {
   "cell_type": "code",
   "execution_count": 5,
   "metadata": {},
   "outputs": [
    {
     "ename": "NameError",
     "evalue": "name 'sc' is not defined",
     "output_type": "error",
     "traceback": [
      "\u001b[1;31m---------------------------------------------------------------------------\u001b[0m",
      "\u001b[1;31mNameError\u001b[0m                                 Traceback (most recent call last)",
      "\u001b[1;32mc:\\Users\\zorve\\OneDrive\\Documents\\GitHub\\chapt_4_SE\\day_14 spark\\tutorial_1.ipynb Cell 7\u001b[0m in \u001b[0;36m<cell line: 10>\u001b[1;34m()\u001b[0m\n\u001b[0;32m      <a href='vscode-notebook-cell:/c%3A/Users/zorve/OneDrive/Documents/GitHub/chapt_4_SE/day_14%20spark/tutorial_1.ipynb#ch0000006?line=6'>7</a>\u001b[0m     x, y \u001b[39m=\u001b[39m random\u001b[39m.\u001b[39mrandom(), random\u001b[39m.\u001b[39mrandom()\n\u001b[0;32m      <a href='vscode-notebook-cell:/c%3A/Users/zorve/OneDrive/Documents/GitHub/chapt_4_SE/day_14%20spark/tutorial_1.ipynb#ch0000006?line=7'>8</a>\u001b[0m     \u001b[39mreturn\u001b[39;00m x\u001b[39m*\u001b[39mx, y\u001b[39m*\u001b[39my \u001b[39m<\u001b[39m \u001b[39m1\u001b[39m\n\u001b[1;32m---> <a href='vscode-notebook-cell:/c%3A/Users/zorve/OneDrive/Documents/GitHub/chapt_4_SE/day_14%20spark/tutorial_1.ipynb#ch0000006?line=9'>10</a>\u001b[0m count \u001b[39m=\u001b[39m sc\u001b[39m.\u001b[39mparallelize( \u001b[39mrange\u001b[39m(number_sample) )\u001b[39m.\u001b[39mfilter( inside )\u001b[39m.\u001b[39mcount()\n",
      "\u001b[1;31mNameError\u001b[0m: name 'sc' is not defined"
     ]
    }
   ],
   "source": [
    "import random \n",
    "# import spark \n",
    "\n",
    "number_sample = 1000\n",
    "\n",
    "def inside(p):\n",
    "    x, y = random.random(), random.random()\n",
    "    return x*x, y*y < 1\n",
    "\n",
    "count = sc.parallelize( range(number_sample) ).filter( inside ).count()\n",
    "\n",
    "pi = 4 * count / number_sample "
   ]
  },
  {
   "cell_type": "code",
   "execution_count": 6,
   "metadata": {},
   "outputs": [],
   "source": [
    "from pyspark.sql import SparkSession \n",
    "from pyspark.sql.types import * "
   ]
  },
  {
   "cell_type": "code",
   "execution_count": 7,
   "metadata": {},
   "outputs": [],
   "source": [
    "spark = SparkSession.builder.appName('iris_class').getOrCreate()"
   ]
  },
  {
   "cell_type": "code",
   "execution_count": 11,
   "metadata": {},
   "outputs": [
    {
     "name": "stdout",
     "output_type": "stream",
     "text": [
      "+------------+-----------+------------+-----------+-------+\n",
      "|sepal_length|sepal_width|petal_length|petal_width|species|\n",
      "+------------+-----------+------------+-----------+-------+\n",
      "|         5.1|        3.5|         1.4|        0.2| setosa|\n",
      "|         4.9|        3.0|         1.4|        0.2| setosa|\n",
      "|         4.7|        3.2|         1.3|        0.2| setosa|\n",
      "|         4.6|        3.1|         1.5|        0.2| setosa|\n",
      "|         5.0|        3.6|         1.4|        0.2| setosa|\n",
      "+------------+-----------+------------+-----------+-------+\n",
      "only showing top 5 rows\n",
      "\n",
      "None\n",
      "root\n",
      " |-- sepal_length: double (nullable = true)\n",
      " |-- sepal_width: double (nullable = true)\n",
      " |-- petal_length: double (nullable = true)\n",
      " |-- petal_width: double (nullable = true)\n",
      " |-- species: string (nullable = true)\n",
      "\n"
     ]
    }
   ],
   "source": [
    "df = spark.read.csv('iris_data.csv', header=True, inferSchema=True)\n",
    "print(df.show(5))\n",
    "df.printSchema()"
   ]
  },
  {
   "cell_type": "code",
   "execution_count": 13,
   "metadata": {},
   "outputs": [],
   "source": [
    "schema = StructType([ \n",
    "                        StructField('sepal_length', DoubleType()), \n",
    "                        StructField('sepal_width',  DoubleType()), \n",
    "                        StructField('petal_length', DoubleType()), \n",
    "                        StructField('petal_width',  DoubleType()), \n",
    "                        StructField('species',      StringType()), \n",
    "                     ])"
   ]
  },
  {
   "cell_type": "code",
   "execution_count": 28,
   "metadata": {},
   "outputs": [
    {
     "name": "stdout",
     "output_type": "stream",
     "text": [
      "root\n",
      " |-- sepal_length: double (nullable = true)\n",
      " |-- sepal_width: double (nullable = true)\n",
      " |-- petal_length: double (nullable = true)\n",
      " |-- petal_width: double (nullable = true)\n",
      " |-- species: string (nullable = true)\n",
      "\n"
     ]
    }
   ],
   "source": [
    "df2 = spark.read.csv('iris_data.csv', header=True, schema=schema)\n",
    "df2.printSchema()"
   ]
  },
  {
   "cell_type": "code",
   "execution_count": 16,
   "metadata": {},
   "outputs": [
    {
     "name": "stdout",
     "output_type": "stream",
     "text": [
      "+------------+-----------+------------+-----------+-------+\n",
      "|sepal_length|sepal_width|petal_length|petal_width|species|\n",
      "+------------+-----------+------------+-----------+-------+\n",
      "|         5.1|        3.5|         1.4|        0.2| setosa|\n",
      "|         4.9|        3.0|         1.4|        0.2| setosa|\n",
      "|         4.7|        3.2|         1.3|        0.2| setosa|\n",
      "|         4.6|        3.1|         1.5|        0.2| setosa|\n",
      "+------------+-----------+------------+-----------+-------+\n",
      "only showing top 4 rows\n",
      "\n"
     ]
    }
   ],
   "source": [
    "df2.show(4)"
   ]
  },
  {
   "cell_type": "code",
   "execution_count": 17,
   "metadata": {},
   "outputs": [],
   "source": [
    "from pyspark.ml.feature import VectorAssembler "
   ]
  },
  {
   "cell_type": "code",
   "execution_count": 29,
   "metadata": {},
   "outputs": [
    {
     "name": "stdout",
     "output_type": "stream",
     "text": [
      "+------------+-----------+------------+-----------+-------+-----------------+\n",
      "|sepal_length|sepal_width|petal_length|petal_width|species|         features|\n",
      "+------------+-----------+------------+-----------+-------+-----------------+\n",
      "|         5.1|        3.5|         1.4|        0.2| setosa|[5.1,3.5,1.4,0.2]|\n",
      "|         4.9|        3.0|         1.4|        0.2| setosa|[4.9,3.0,1.4,0.2]|\n",
      "|         4.7|        3.2|         1.3|        0.2| setosa|[4.7,3.2,1.3,0.2]|\n",
      "|         4.6|        3.1|         1.5|        0.2| setosa|[4.6,3.1,1.5,0.2]|\n",
      "|         5.0|        3.6|         1.4|        0.2| setosa|[5.0,3.6,1.4,0.2]|\n",
      "+------------+-----------+------------+-----------+-------+-----------------+\n",
      "only showing top 5 rows\n",
      "\n"
     ]
    }
   ],
   "source": [
    "input_columns = ['sepal_length', 'sepal_width', 'petal_length', 'petal_width']\n",
    "vectorizer = VectorAssembler(inputCols=input_columns, outputCol='features')\n",
    "df = vectorizer.transform(df2)\n",
    "df.show(5)"
   ]
  },
  {
   "cell_type": "code",
   "execution_count": 30,
   "metadata": {},
   "outputs": [],
   "source": [
    "from pyspark.ml.feature import StringIndexer\n"
   ]
  },
  {
   "cell_type": "code",
   "execution_count": 31,
   "metadata": {},
   "outputs": [
    {
     "name": "stdout",
     "output_type": "stream",
     "text": [
      "+------------+-----------+------------+-----------+-------+-----------------+---------------+\n",
      "|sepal_length|sepal_width|petal_length|petal_width|species|         features|indexed_species|\n",
      "+------------+-----------+------------+-----------+-------+-----------------+---------------+\n",
      "|         5.1|        3.5|         1.4|        0.2| setosa|[5.1,3.5,1.4,0.2]|            0.0|\n",
      "|         4.9|        3.0|         1.4|        0.2| setosa|[4.9,3.0,1.4,0.2]|            0.0|\n",
      "|         4.7|        3.2|         1.3|        0.2| setosa|[4.7,3.2,1.3,0.2]|            0.0|\n",
      "|         4.6|        3.1|         1.5|        0.2| setosa|[4.6,3.1,1.5,0.2]|            0.0|\n",
      "+------------+-----------+------------+-----------+-------+-----------------+---------------+\n",
      "only showing top 4 rows\n",
      "\n"
     ]
    }
   ],
   "source": [
    "indexer = StringIndexer(inputCol='species', outputCol='indexed_species')\n",
    "df = indexer.fit(df).transform(df)\n",
    "df.show(4)"
   ]
  },
  {
   "cell_type": "code",
   "execution_count": 32,
   "metadata": {},
   "outputs": [
    {
     "name": "stdout",
     "output_type": "stream",
     "text": [
      "+------------+-----------+------------+-----------+-------+-----------------+---------------+\n",
      "|sepal_length|sepal_width|petal_length|petal_width|species|         features|indexed_species|\n",
      "+------------+-----------+------------+-----------+-------+-----------------+---------------+\n",
      "|         4.9|        3.1|         1.5|        0.1| setosa|[4.9,3.1,1.5,0.1]|            0.0|\n",
      "|         4.9|        3.1|         1.5|        0.1| setosa|[4.9,3.1,1.5,0.1]|            0.0|\n",
      "|         5.0|        3.4|         1.6|        0.4| setosa|[5.0,3.4,1.6,0.4]|            0.0|\n",
      "|         5.0|        3.5|         1.3|        0.3| setosa|[5.0,3.5,1.3,0.3]|            0.0|\n",
      "|         5.0|        3.5|         1.6|        0.6| setosa|[5.0,3.5,1.6,0.6]|            0.0|\n",
      "+------------+-----------+------------+-----------+-------+-----------------+---------------+\n",
      "only showing top 5 rows\n",
      "\n"
     ]
    }
   ],
   "source": [
    "df_train, df_test = df.randomSplit([0.8, 0.2], seed=0)\n",
    "df_test.show(5)"
   ]
  },
  {
   "cell_type": "code",
   "execution_count": 33,
   "metadata": {},
   "outputs": [],
   "source": [
    "from pyspark.ml.classification import RandomForestClassifier"
   ]
  },
  {
   "cell_type": "code",
   "execution_count": 34,
   "metadata": {},
   "outputs": [],
   "source": [
    "rf_clf = RandomForestClassifier(featuresCol='features', labelCol='indexed_species')\n"
   ]
  },
  {
   "cell_type": "code",
   "execution_count": 35,
   "metadata": {},
   "outputs": [],
   "source": [
    "rf_clf = rf_clf.fit(df_train)"
   ]
  },
  {
   "cell_type": "code",
   "execution_count": 36,
   "metadata": {},
   "outputs": [
    {
     "name": "stdout",
     "output_type": "stream",
     "text": [
      "+------------+-----------+------------+-----------+----------+-----------------+---------------+--------------------+--------------------+----------+\n",
      "|sepal_length|sepal_width|petal_length|petal_width|   species|         features|indexed_species|       rawPrediction|         probability|prediction|\n",
      "+------------+-----------+------------+-----------+----------+-----------------+---------------+--------------------+--------------------+----------+\n",
      "|         4.9|        3.1|         1.5|        0.1|    setosa|[4.9,3.1,1.5,0.1]|            0.0|      [20.0,0.0,0.0]|       [1.0,0.0,0.0]|       0.0|\n",
      "|         4.9|        3.1|         1.5|        0.1|    setosa|[4.9,3.1,1.5,0.1]|            0.0|      [20.0,0.0,0.0]|       [1.0,0.0,0.0]|       0.0|\n",
      "|         5.0|        3.4|         1.6|        0.4|    setosa|[5.0,3.4,1.6,0.4]|            0.0|      [20.0,0.0,0.0]|       [1.0,0.0,0.0]|       0.0|\n",
      "|         5.0|        3.5|         1.3|        0.3|    setosa|[5.0,3.5,1.3,0.3]|            0.0|      [20.0,0.0,0.0]|       [1.0,0.0,0.0]|       0.0|\n",
      "|         5.0|        3.5|         1.6|        0.6|    setosa|[5.0,3.5,1.6,0.6]|            0.0|      [14.0,6.0,0.0]|       [0.7,0.3,0.0]|       0.0|\n",
      "|         5.1|        3.5|         1.4|        0.3|    setosa|[5.1,3.5,1.4,0.3]|            0.0|      [20.0,0.0,0.0]|       [1.0,0.0,0.0]|       0.0|\n",
      "|         5.1|        3.7|         1.5|        0.4|    setosa|[5.1,3.7,1.5,0.4]|            0.0|      [20.0,0.0,0.0]|       [1.0,0.0,0.0]|       0.0|\n",
      "|         5.1|        3.8|         1.6|        0.2|    setosa|[5.1,3.8,1.6,0.2]|            0.0|      [20.0,0.0,0.0]|       [1.0,0.0,0.0]|       0.0|\n",
      "|         5.4|        3.7|         1.5|        0.2|    setosa|[5.4,3.7,1.5,0.2]|            0.0|      [20.0,0.0,0.0]|       [1.0,0.0,0.0]|       0.0|\n",
      "|         5.5|        2.4|         3.7|        1.0|versicolor|[5.5,2.4,3.7,1.0]|            1.0|      [0.0,20.0,0.0]|       [0.0,1.0,0.0]|       1.0|\n",
      "|         5.6|        2.7|         4.2|        1.3|versicolor|[5.6,2.7,4.2,1.3]|            1.0|      [0.0,20.0,0.0]|       [0.0,1.0,0.0]|       1.0|\n",
      "|         5.6|        2.8|         4.9|        2.0| virginica|[5.6,2.8,4.9,2.0]|            2.0|      [0.0,5.1,14.9]|   [0.0,0.255,0.745]|       2.0|\n",
      "|         5.6|        2.9|         3.6|        1.3|versicolor|[5.6,2.9,3.6,1.3]|            1.0|      [0.0,20.0,0.0]|       [0.0,1.0,0.0]|       1.0|\n",
      "|         5.7|        2.5|         5.0|        2.0| virginica|[5.7,2.5,5.0,2.0]|            2.0|      [0.0,4.1,15.9]|   [0.0,0.205,0.795]|       2.0|\n",
      "|         5.7|        4.4|         1.5|        0.4|    setosa|[5.7,4.4,1.5,0.4]|            0.0|      [19.0,1.0,0.0]|     [0.95,0.05,0.0]|       0.0|\n",
      "|         5.8|        2.7|         4.1|        1.0|versicolor|[5.8,2.7,4.1,1.0]|            1.0|[0.0,19.843891402...|[0.0,0.9921945701...|       1.0|\n",
      "|         6.0|        3.0|         4.8|        1.8| virginica|[6.0,3.0,4.8,1.8]|            2.0|[0.0,7.9823529411...|[0.0,0.3991176470...|       2.0|\n",
      "|         6.1|        2.6|         5.6|        1.4| virginica|[6.1,2.6,5.6,1.4]|            2.0|[0.0,8.0865384615...|[0.0,0.4043269230...|       2.0|\n",
      "|         6.1|        2.8|         4.0|        1.3|versicolor|[6.1,2.8,4.0,1.3]|            1.0|[0.0,19.843891402...|[0.0,0.9921945701...|       1.0|\n",
      "|         6.3|        2.5|         4.9|        1.5|versicolor|[6.3,2.5,4.9,1.5]|            1.0|[0.0,11.961538461...|[0.0,0.5980769230...|       1.0|\n",
      "+------------+-----------+------------+-----------+----------+-----------------+---------------+--------------------+--------------------+----------+\n",
      "only showing top 20 rows\n",
      "\n"
     ]
    }
   ],
   "source": [
    "df_test = rf_clf.transform(df_test)\n",
    "df_test.show()"
   ]
  },
  {
   "cell_type": "code",
   "execution_count": 38,
   "metadata": {},
   "outputs": [
    {
     "name": "stdout",
     "output_type": "stream",
     "text": [
      "+----------+-----------------+---------------+--------------------+--------------------+----------+\n",
      "|   species|         features|indexed_species|       rawPrediction|         probability|prediction|\n",
      "+----------+-----------------+---------------+--------------------+--------------------+----------+\n",
      "|    setosa|[4.9,3.1,1.5,0.1]|            0.0|      [20.0,0.0,0.0]|       [1.0,0.0,0.0]|       0.0|\n",
      "|    setosa|[4.9,3.1,1.5,0.1]|            0.0|      [20.0,0.0,0.0]|       [1.0,0.0,0.0]|       0.0|\n",
      "|    setosa|[5.0,3.4,1.6,0.4]|            0.0|      [20.0,0.0,0.0]|       [1.0,0.0,0.0]|       0.0|\n",
      "|    setosa|[5.0,3.5,1.3,0.3]|            0.0|      [20.0,0.0,0.0]|       [1.0,0.0,0.0]|       0.0|\n",
      "|    setosa|[5.0,3.5,1.6,0.6]|            0.0|      [14.0,6.0,0.0]|       [0.7,0.3,0.0]|       0.0|\n",
      "|    setosa|[5.1,3.5,1.4,0.3]|            0.0|      [20.0,0.0,0.0]|       [1.0,0.0,0.0]|       0.0|\n",
      "|    setosa|[5.1,3.7,1.5,0.4]|            0.0|      [20.0,0.0,0.0]|       [1.0,0.0,0.0]|       0.0|\n",
      "|    setosa|[5.1,3.8,1.6,0.2]|            0.0|      [20.0,0.0,0.0]|       [1.0,0.0,0.0]|       0.0|\n",
      "|    setosa|[5.4,3.7,1.5,0.2]|            0.0|      [20.0,0.0,0.0]|       [1.0,0.0,0.0]|       0.0|\n",
      "|versicolor|[5.5,2.4,3.7,1.0]|            1.0|      [0.0,20.0,0.0]|       [0.0,1.0,0.0]|       1.0|\n",
      "|versicolor|[5.6,2.7,4.2,1.3]|            1.0|      [0.0,20.0,0.0]|       [0.0,1.0,0.0]|       1.0|\n",
      "| virginica|[5.6,2.8,4.9,2.0]|            2.0|      [0.0,5.1,14.9]|   [0.0,0.255,0.745]|       2.0|\n",
      "|versicolor|[5.6,2.9,3.6,1.3]|            1.0|      [0.0,20.0,0.0]|       [0.0,1.0,0.0]|       1.0|\n",
      "| virginica|[5.7,2.5,5.0,2.0]|            2.0|      [0.0,4.1,15.9]|   [0.0,0.205,0.795]|       2.0|\n",
      "|    setosa|[5.7,4.4,1.5,0.4]|            0.0|      [19.0,1.0,0.0]|     [0.95,0.05,0.0]|       0.0|\n",
      "|versicolor|[5.8,2.7,4.1,1.0]|            1.0|[0.0,19.843891402...|[0.0,0.9921945701...|       1.0|\n",
      "| virginica|[6.0,3.0,4.8,1.8]|            2.0|[0.0,7.9823529411...|[0.0,0.3991176470...|       2.0|\n",
      "| virginica|[6.1,2.6,5.6,1.4]|            2.0|[0.0,8.0865384615...|[0.0,0.4043269230...|       2.0|\n",
      "|versicolor|[6.1,2.8,4.0,1.3]|            1.0|[0.0,19.843891402...|[0.0,0.9921945701...|       1.0|\n",
      "|versicolor|[6.3,2.5,4.9,1.5]|            1.0|[0.0,11.961538461...|[0.0,0.5980769230...|       1.0|\n",
      "+----------+-----------------+---------------+--------------------+--------------------+----------+\n",
      "only showing top 20 rows\n",
      "\n"
     ]
    }
   ],
   "source": [
    "df_test.select('species', 'features', 'indexed_species', 'rawPrediction', 'probability', 'prediction').show()"
   ]
  },
  {
   "cell_type": "code",
   "execution_count": 39,
   "metadata": {},
   "outputs": [
    {
     "name": "stdout",
     "output_type": "stream",
     "text": [
      "+----------+-----------------+---------------+--------------------+--------------------+----------+\n",
      "|   species|         features|indexed_species|       rawPrediction|         probability|prediction|\n",
      "+----------+-----------------+---------------+--------------------+--------------------+----------+\n",
      "|    setosa|[4.9,3.1,1.5,0.1]|            0.0|      [20.0,0.0,0.0]|       [1.0,0.0,0.0]|       0.0|\n",
      "|    setosa|[4.9,3.1,1.5,0.1]|            0.0|      [20.0,0.0,0.0]|       [1.0,0.0,0.0]|       0.0|\n",
      "|    setosa|[5.0,3.4,1.6,0.4]|            0.0|      [20.0,0.0,0.0]|       [1.0,0.0,0.0]|       0.0|\n",
      "|    setosa|[5.0,3.5,1.3,0.3]|            0.0|      [20.0,0.0,0.0]|       [1.0,0.0,0.0]|       0.0|\n",
      "|    setosa|[5.0,3.5,1.6,0.6]|            0.0|      [14.0,6.0,0.0]|       [0.7,0.3,0.0]|       0.0|\n",
      "|    setosa|[5.1,3.5,1.4,0.3]|            0.0|      [20.0,0.0,0.0]|       [1.0,0.0,0.0]|       0.0|\n",
      "|    setosa|[5.1,3.7,1.5,0.4]|            0.0|      [20.0,0.0,0.0]|       [1.0,0.0,0.0]|       0.0|\n",
      "|    setosa|[5.1,3.8,1.6,0.2]|            0.0|      [20.0,0.0,0.0]|       [1.0,0.0,0.0]|       0.0|\n",
      "|    setosa|[5.4,3.7,1.5,0.2]|            0.0|      [20.0,0.0,0.0]|       [1.0,0.0,0.0]|       0.0|\n",
      "|versicolor|[5.5,2.4,3.7,1.0]|            1.0|      [0.0,20.0,0.0]|       [0.0,1.0,0.0]|       1.0|\n",
      "|versicolor|[5.6,2.7,4.2,1.3]|            1.0|      [0.0,20.0,0.0]|       [0.0,1.0,0.0]|       1.0|\n",
      "| virginica|[5.6,2.8,4.9,2.0]|            2.0|      [0.0,5.1,14.9]|   [0.0,0.255,0.745]|       2.0|\n",
      "|versicolor|[5.6,2.9,3.6,1.3]|            1.0|      [0.0,20.0,0.0]|       [0.0,1.0,0.0]|       1.0|\n",
      "| virginica|[5.7,2.5,5.0,2.0]|            2.0|      [0.0,4.1,15.9]|   [0.0,0.205,0.795]|       2.0|\n",
      "|    setosa|[5.7,4.4,1.5,0.4]|            0.0|      [19.0,1.0,0.0]|     [0.95,0.05,0.0]|       0.0|\n",
      "|versicolor|[5.8,2.7,4.1,1.0]|            1.0|[0.0,19.843891402...|[0.0,0.9921945701...|       1.0|\n",
      "| virginica|[6.0,3.0,4.8,1.8]|            2.0|[0.0,7.9823529411...|[0.0,0.3991176470...|       2.0|\n",
      "| virginica|[6.1,2.6,5.6,1.4]|            2.0|[0.0,8.0865384615...|[0.0,0.4043269230...|       2.0|\n",
      "|versicolor|[6.1,2.8,4.0,1.3]|            1.0|[0.0,19.843891402...|[0.0,0.9921945701...|       1.0|\n",
      "|versicolor|[6.3,2.5,4.9,1.5]|            1.0|[0.0,11.961538461...|[0.0,0.5980769230...|       1.0|\n",
      "+----------+-----------------+---------------+--------------------+--------------------+----------+\n",
      "only showing top 20 rows\n",
      "\n"
     ]
    }
   ],
   "source": [
    "df_test[['species', 'features', 'indexed_species', 'rawPrediction', 'probability', 'prediction']].show()"
   ]
  },
  {
   "cell_type": "code",
   "execution_count": 40,
   "metadata": {},
   "outputs": [],
   "source": [
    "from pyspark.ml.evaluation import MulticlassClassificationEvaluator "
   ]
  },
  {
   "cell_type": "code",
   "execution_count": 44,
   "metadata": {},
   "outputs": [],
   "source": [
    "criterion = MulticlassClassificationEvaluator(labelCol='indexed_species', predictionCol='prediction')\n"
   ]
  },
  {
   "cell_type": "code",
   "execution_count": 45,
   "metadata": {},
   "outputs": [
    {
     "data": {
      "text/plain": [
       "1.0"
      ]
     },
     "execution_count": 45,
     "metadata": {},
     "output_type": "execute_result"
    }
   ],
   "source": [
    "acc = criterion.evaluate(df_test)\n",
    "acc"
   ]
  },
  {
   "cell_type": "code",
   "execution_count": null,
   "metadata": {},
   "outputs": [],
   "source": []
  },
  {
   "cell_type": "code",
   "execution_count": null,
   "metadata": {},
   "outputs": [],
   "source": []
  },
  {
   "cell_type": "code",
   "execution_count": null,
   "metadata": {},
   "outputs": [],
   "source": []
  }
 ],
 "metadata": {
  "kernelspec": {
   "display_name": "Python 3.8.13 ('deeplearning')",
   "language": "python",
   "name": "python3"
  },
  "language_info": {
   "codemirror_mode": {
    "name": "ipython",
    "version": 3
   },
   "file_extension": ".py",
   "mimetype": "text/x-python",
   "name": "python",
   "nbconvert_exporter": "python",
   "pygments_lexer": "ipython3",
   "version": "3.8.13"
  },
  "orig_nbformat": 4,
  "vscode": {
   "interpreter": {
    "hash": "6a29e2c6032db948d2ac4841a3008c24c124c9d60225cd5bb2e940e04b511554"
   }
  }
 },
 "nbformat": 4,
 "nbformat_minor": 2
}
